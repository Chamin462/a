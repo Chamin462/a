{
 "cells": [
  {
   "cell_type": "markdown",
   "id": "2daefd0c",
   "metadata": {},
   "source": [
    "# 1- Heading1\n",
    "## 2. Heading 2\n",
    "### 3 Heading 3\n",
    "> this is a special text\n",
    ">\n",
    "> this is a sp\n",
    "# line breaks\n",
    "this is a line break\n",
    ">## heading2\n",
    "# face of text\n",
    "**bold**\n",
    "\n",
    "*italic*\n",
    "\n",
    "***bold and italic***\n",
    "or you can used symbols\n",
    "\n",
    "-(underscore)\n",
    "\n",
    "__bold__\n",
    "\n",
    "_italic_\n",
    "\n",
    "\n",
    "# bullet points/lists\n",
    "\n",
    "- day-1\n",
    "- day-2\n",
    "- day-3\n",
    "    - daY-4\n",
    "    - DAY-5\n",
    "<https://www.youtube.com/channel/UCYJ6HxYcVqCvyvp07DJg_OA>\n",
    "\n",
    "\n",
    "[This watch my channel](https://www.youtube.com/channel/UCYJ6HxYcVqCvyvp07DJg_OA)\n",
    "\n",
    "[Ch Amin]:https://www.youtube.com/channel/UCYJ6HxYcVqCvyvp07DJg_OA\n",
    "\n",
    "watch more update [here][Ch Amin].\n",
    "\n",
    "# image and  figures with links\n",
    "to visit my channel then scan the following QR code and join my aucation.\n",
    "![QR](qr.png)\n",
    "# adding block and code block\n",
    "``` print (\"Hello world and other things is my python\")```\n",
    "\n",
    "`(my channel then scan the following QR)`"
   ]
  },
  {
   "cell_type": "code",
   "execution_count": null,
   "id": "1b252885",
   "metadata": {},
   "outputs": [],
   "source": [
    "()"
   ]
  },
  {
   "cell_type": "code",
   "execution_count": null,
   "id": "33ee8a70",
   "metadata": {},
   "outputs": [],
   "source": []
  }
 ],
 "metadata": {
  "kernelspec": {
   "display_name": "Python 3 (ipykernel)",
   "language": "python",
   "name": "python3"
  },
  "language_info": {
   "codemirror_mode": {
    "name": "ipython",
    "version": 3
   },
   "file_extension": ".py",
   "mimetype": "text/x-python",
   "name": "python",
   "nbconvert_exporter": "python",
   "pygments_lexer": "ipython3",
   "version": "3.9.7"
  }
 },
 "nbformat": 4,
 "nbformat_minor": 5
}
